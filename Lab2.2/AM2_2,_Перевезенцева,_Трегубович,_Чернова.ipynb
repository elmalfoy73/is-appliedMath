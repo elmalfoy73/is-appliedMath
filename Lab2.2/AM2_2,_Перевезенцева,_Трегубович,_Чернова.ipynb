{
  "nbformat": 4,
  "nbformat_minor": 0,
  "metadata": {
    "colab": {
      "provenance": []
    },
    "kernelspec": {
      "name": "python3",
      "display_name": "Python 3"
    },
    "language_info": {
      "name": "python"
    }
  },
  "cells": [
    {
      "cell_type": "markdown",
      "source": [
        "## Ввод таблицы из json\n"
      ],
      "metadata": {
        "id": "XfgG7WIaQ4Cv"
      }
    },
    {
      "cell_type": "code",
      "source": [
        "import json\n",
        "import pandas as pd\n",
        "from PIL import Image\n",
        "from pydrive.auth import GoogleAuth\n",
        "from pydrive.drive import GoogleDrive\n",
        "from google.colab import auth\n",
        "from oauth2client.client import GoogleCredentials\n",
        "from scipy.optimize import linprog\n",
        "\n",
        "import numpy as np\n",
        "\n",
        "auth.authenticate_user()\n",
        "gauth = GoogleAuth()\n",
        "gauth.credentials = GoogleCredentials.get_application_default()\n",
        "drive = GoogleDrive(gauth)\n",
        "\n",
        "downloader = drive.CreateFile({'id':'1JtJGkWF8ZuhbWVsi6mXjtHlwXDRni-Yj'})\n",
        "downloader.GetContentFile('test.json')\n",
        "downloader = drive.CreateFile({'id':'1G8CN4XYwiO7FCgAPTMB_ZnKo3MbFpfkh'})\n",
        "downloader.GetContentFile('test2.json')\n",
        "downloader = drive.CreateFile({'id':'1T2qkFzlyQZDbBPau0E5iio7hIr5XoamR'})\n",
        "downloader.GetContentFile('test3.json')\n",
        "downloader = drive.CreateFile({'id':'1fGjBW12r66i8mJrvdMqKxK_pD1DD3h-l'})\n",
        "downloader.GetContentFile('test4.json')\n",
        "downloader = drive.CreateFile({'id':'1SQ1NdixnIzEwNacwUNpx-SgfweT1A9zQ'})\n",
        "downloader.GetContentFile('test5.json')\n",
        "downloader = drive.CreateFile({'id':'15Msrsp5SRJieMNUk-aTlCrhYwM8eYnXj'})\n",
        "downloader.GetContentFile('lab1.py')"
      ],
      "metadata": {
        "id": "HbKVBvUrTSlU",
        "colab": {
          "base_uri": "https://localhost:8080/"
        },
        "outputId": "520e7fa1-7873-4158-a43c-f253c9e4dbbf"
      },
      "execution_count": 1,
      "outputs": [
        {
          "output_type": "stream",
          "name": "stderr",
          "text": [
            "WARNING:root:pydrive is deprecated and no longer maintained. We recommend that you migrate your projects to pydrive2, the maintained fork of pydrive\n"
          ]
        }
      ]
    },
    {
      "cell_type": "code",
      "source": [
        "def parse_json(json_name):\n",
        "  with open(json_name) as json_file:\n",
        "    data = json.load(json_file)\n",
        "    strategies_A = data['strategies_A']\n",
        "    strategies_B = data['strategies_B']\n",
        "    payments = data['payments']\n",
        "    return strategies_A, strategies_B, payments"
      ],
      "metadata": {
        "id": "A4TnR0vdTGOc"
      },
      "execution_count": 2,
      "outputs": []
    },
    {
      "cell_type": "markdown",
      "source": [
        "## Упрощение путём анализа доминирующих статегий"
      ],
      "metadata": {
        "id": "Td81OUlFQ_Ta"
      }
    },
    {
      "cell_type": "markdown",
      "source": [
        "Упрощаем строки"
      ],
      "metadata": {
        "id": "klqmzaCcRMmn"
      }
    },
    {
      "cell_type": "code",
      "source": [
        "def dominance_row(payment_matrix):\n",
        "  payment_matrix.drop_duplicates()\n",
        "  dominating_filter = (payment_matrix.values[:, None] <= payment_matrix.values).all(axis=2).sum(axis=1) == 1\n",
        "  payment_matrix = payment_matrix[dominating_filter]\n",
        "  return payment_matrix"
      ],
      "metadata": {
        "id": "4OqYXG60RLfR"
      },
      "execution_count": 3,
      "outputs": []
    },
    {
      "cell_type": "markdown",
      "source": [
        "Упрощаем столбцы"
      ],
      "metadata": {
        "id": "EnB9v46xRPci"
      }
    },
    {
      "cell_type": "code",
      "source": [
        "def dominance_colomn(payment_matrix):\n",
        "  payment_matrix_T = payment_matrix.T\n",
        "  dominating_filter = (payment_matrix_T.values[:, None] >= payment_matrix_T.values).all(axis=2).sum(axis=1) == 1\n",
        "  payment_matrix_T = payment_matrix_T[dominating_filter]\n",
        "  return payment_matrix_T.T"
      ],
      "metadata": {
        "id": "xffKwpF6Q3Wm"
      },
      "execution_count": 4,
      "outputs": []
    },
    {
      "cell_type": "markdown",
      "source": [
        "## Решение игры в чистых стратегиях"
      ],
      "metadata": {
        "id": "lT2_1c48aWWE"
      }
    },
    {
      "cell_type": "markdown",
      "source": [
        "Для нахождения решения игры в чистых стратегиях можно использовать метод минимакса. Для каждой строки матрицы платежей нужно найти минимальное значение и выбрать максимальное из них. Затем сделайть то же самое для каждого столбца матрицы платежей, но на этот раз найти максимальное значение и выбирать минимальное из них. Когда найденные значения совпадают, это является оптимальными стратегиями игры."
      ],
      "metadata": {
        "id": "eUpjjshXd0Th"
      }
    },
    {
      "cell_type": "code",
      "source": [
        "def pure_strategy(payment_matrix):\n",
        "  row_min = payment_matrix.min(axis=1)\n",
        "  saddle_point_row = row_min.max()\n",
        "\n",
        "  column_max = payment_matrix.max(axis=0)\n",
        "  saddle_point_column = column_max.min()\n",
        "\n",
        "  if saddle_point_row == saddle_point_column:\n",
        "    optimal_row_strategy = row_min.idxmax()\n",
        "    optimal_column_strategy = column_max.idxmin()\n",
        "    game_value = saddle_point_row\n",
        "    print(\"Оптимальная стратегия игры:\")\n",
        "    print(\"Стратегия игрока A:\", optimal_row_strategy)\n",
        "    print(\"Стратегия игрока B:\", optimal_column_strategy)\n",
        "    print(\"Цена игры:\", game_value)\n",
        "    return True\n",
        "  else:\n",
        "    print(\"Решение игры в чистых стратегиях отсутствует.\")\n",
        "    return False"
      ],
      "metadata": {
        "id": "smsc-0dyasuU"
      },
      "execution_count": 5,
      "outputs": []
    },
    {
      "cell_type": "markdown",
      "source": [
        "## Смешанные стратегии"
      ],
      "metadata": {
        "id": "EPp9fYIf7uHO"
      }
    },
    {
      "cell_type": "code",
      "source": [
        "def mixed_strategy(payment_matrix):\n",
        "\n",
        "  # Для первого игрока\n",
        "\n",
        "  # Создаем матрицу коэффициентов для симплекс-метода\n",
        "  matrix_ = payment_matrix.values.T\n",
        "  num_columns = len(payment_matrix[0])\n",
        "  c = [1] * num_columns\n",
        "  A = []\n",
        "  b = []\n",
        "  for column in matrix_:\n",
        "    A.append([-v for v in column])\n",
        "    b.append(-1)\n",
        "\n",
        "  # Решаем задачу симплекс-методом (поиск минимума функции F(x) при ограничениях)\n",
        "  result1 = linprog(c, A_ub=A, b_ub=b, bounds=[(0, None)] * num_columns, method='simplex', options={\"disp\": True})\n",
        "\n",
        "  # Для второго игрока\n",
        "\n",
        "  # Создаем матрицу коэффициентов для симплекс-метода\n",
        "  matrix_ = payment_matrix.values\n",
        "  num_columns = len(matrix_[1])\n",
        "  c = [-1] * num_columns\n",
        "  A = []\n",
        "  b = []\n",
        "  for row in matrix_:\n",
        "    A.append(row)\n",
        "    b.append(1)\n",
        "\n",
        "  # Решаем задачу симплекс-методом (поиск максимума функции Z(y) при ограничениях)\n",
        "  result2 = linprog(c, A_ub=A, b_ub=b, bounds=[(0, None)] * num_columns, method='simplex', options={\"disp\": True})\n",
        "\n",
        "  if result1.success and result2.success:\n",
        "    # Вычисляем цену игры\n",
        "    game_value = 1 / abs(result2.fun)\n",
        "\n",
        "    # Извлекаем результаты\n",
        "    mixed_strategy_A = game_value * result1.x\n",
        "    mixed_strategy_B = game_value * result2.x\n",
        "\n",
        "    print(\"Смешанные стратегии игры:\")\n",
        "    print(\"Смешанная стратегия игрока A:\", mixed_strategy_A)\n",
        "    print(\"Смешанная стратегия игрока B:\", mixed_strategy_B)\n",
        "    print(\"Цена игры:\", game_value)\n",
        "  else:\n",
        "    print(\"Решение в смешанных стратегиях не найдено.\")\n",
        "\n"
      ],
      "metadata": {
        "id": "JHebqqSo7i7s"
      },
      "execution_count": 6,
      "outputs": []
    },
    {
      "cell_type": "markdown",
      "source": [
        "## Тесты"
      ],
      "metadata": {
        "id": "Xhs9LM1Suiih"
      }
    },
    {
      "cell_type": "code",
      "source": [
        "def solve_game(json_name):\n",
        "  strategies_A, strategies_B, payments = parse_json(json_name)\n",
        "  payment_matrix = pd.DataFrame(payments, index=strategies_A, columns=strategies_B)\n",
        "\n",
        "  payment_matrix = dominance_row(payment_matrix)\n",
        "  payment_matrix = dominance_colomn(payment_matrix)\n",
        "  print(payment_matrix)\n",
        "\n",
        "  if(pure_strategy(payment_matrix)):\n",
        "    return\n",
        "\n",
        "  mixed_strategy(payment_matrix)"
      ],
      "metadata": {
        "id": "1oUmHcwEwhkI"
      },
      "execution_count": 7,
      "outputs": []
    },
    {
      "cell_type": "code",
      "source": [
        "solve_game(\"test.json\")"
      ],
      "metadata": {
        "id": "rQ25ePMo0YfU",
        "colab": {
          "base_uri": "https://localhost:8080/"
        },
        "outputId": "f18b91e1-146e-4b85-c91e-79e4587a6bb3"
      },
      "execution_count": 8,
      "outputs": [
        {
          "output_type": "stream",
          "name": "stdout",
          "text": [
            "     0\n",
            "2  700\n",
            "Оптимальная стратегия игры:\n",
            "Стратегия игрока A: 2\n",
            "Стратегия игрока B: 0\n",
            "Цена игры: 700\n"
          ]
        }
      ]
    },
    {
      "cell_type": "code",
      "source": [
        "solve_game(\"test3.json\")"
      ],
      "metadata": {
        "id": "FHG8Sb5JuftI",
        "colab": {
          "base_uri": "https://localhost:8080/"
        },
        "outputId": "cea53717-72db-49f5-9f8d-c93a989c242d"
      },
      "execution_count": 9,
      "outputs": [
        {
          "output_type": "stream",
          "name": "stdout",
          "text": [
            "   0  2\n",
            "1  3  5\n",
            "2  2 -2\n",
            "Оптимальная стратегия игры:\n",
            "Стратегия игрока A: 1\n",
            "Стратегия игрока B: 0\n",
            "Цена игры: 3\n"
          ]
        }
      ]
    },
    {
      "cell_type": "code",
      "source": [
        "solve_game(\"test4.json\")"
      ],
      "metadata": {
        "id": "xUSMVX2P5yZl",
        "colab": {
          "base_uri": "https://localhost:8080/"
        },
        "outputId": "e9b63203-1dad-4818-ecbc-de00fd4cf3fd"
      },
      "execution_count": 10,
      "outputs": [
        {
          "output_type": "stream",
          "name": "stdout",
          "text": [
            "   3\n",
            "0 -4\n",
            "1 -1\n",
            "Оптимальная стратегия игры:\n",
            "Стратегия игрока A: 1\n",
            "Стратегия игрока B: 3\n",
            "Цена игры: -1\n"
          ]
        }
      ]
    },
    {
      "cell_type": "code",
      "source": [
        "solve_game(\"test5.json\")"
      ],
      "metadata": {
        "id": "9dHS13MtGRHC",
        "colab": {
          "base_uri": "https://localhost:8080/"
        },
        "outputId": "4f387462-4a50-4326-ba34-12b566233e2a"
      },
      "execution_count": 11,
      "outputs": [
        {
          "output_type": "stream",
          "name": "stdout",
          "text": [
            "   0  1\n",
            "0  2 -1\n",
            "1  1  3\n",
            "Решение игры в чистых стратегиях отсутствует.\n",
            "Optimization terminated successfully.\n",
            "         Current function value: 0.714286    \n",
            "         Iterations: 2\n",
            "Optimization terminated successfully.\n",
            "         Current function value: -0.714286   \n",
            "         Iterations: 2\n",
            "Смешанные стратегии игры:\n",
            "Смешанная стратегия игрока A: [0.4 0.6]\n",
            "Смешанная стратегия игрока B: [0.8 0.2]\n",
            "Цена игры: 1.4000000000000001\n"
          ]
        },
        {
          "output_type": "stream",
          "name": "stderr",
          "text": [
            "<ipython-input-6-dd7ef0db84a0>:16: DeprecationWarning: `method='simplex'` is deprecated and will be removed in SciPy 1.11.0. Please use one of the HiGHS solvers (e.g. `method='highs'`) in new code.\n",
            "  result1 = linprog(c, A_ub=A, b_ub=b, bounds=[(0, None)] * num_columns, method='simplex', options={\"disp\": True})\n",
            "<ipython-input-6-dd7ef0db84a0>:31: DeprecationWarning: `method='simplex'` is deprecated and will be removed in SciPy 1.11.0. Please use one of the HiGHS solvers (e.g. `method='highs'`) in new code.\n",
            "  result2 = linprog(c, A_ub=A, b_ub=b, bounds=[(0, None)] * num_columns, method='simplex', options={\"disp\": True})\n"
          ]
        }
      ]
    },
    {
      "cell_type": "code",
      "source": [
        "solve_game(\"test2.json\")"
      ],
      "metadata": {
        "id": "E271e__Q1gd4",
        "colab": {
          "base_uri": "https://localhost:8080/"
        },
        "outputId": "88e2c5dd-1da9-4630-f2f6-afca596713bd"
      },
      "execution_count": 12,
      "outputs": [
        {
          "output_type": "stream",
          "name": "stdout",
          "text": [
            "   0  1  2  3  4\n",
            "0  1  2  3  4  5\n",
            "1  3  2  1  0 -1\n",
            "2  1  3  5  4  2\n",
            "3  3  1 -1  0  2\n",
            "Решение игры в чистых стратегиях отсутствует.\n",
            "Optimization terminated successfully.\n",
            "         Current function value: 0.500000    \n",
            "         Iterations: 6\n",
            "Optimization terminated successfully.\n",
            "         Current function value: -0.500000   \n",
            "         Iterations: 4\n",
            "Смешанные стратегии игры:\n",
            "Смешанная стратегия игрока A: [2.46716228e-17 0.00000000e+00 5.00000000e-01 5.00000000e-01]\n",
            "Смешанная стратегия игрока B: [0.64285714 0.         0.21428571 0.         0.14285714]\n",
            "Цена игры: 2.0\n"
          ]
        },
        {
          "output_type": "stream",
          "name": "stderr",
          "text": [
            "<ipython-input-6-dd7ef0db84a0>:16: DeprecationWarning: `method='simplex'` is deprecated and will be removed in SciPy 1.11.0. Please use one of the HiGHS solvers (e.g. `method='highs'`) in new code.\n",
            "  result1 = linprog(c, A_ub=A, b_ub=b, bounds=[(0, None)] * num_columns, method='simplex', options={\"disp\": True})\n",
            "<ipython-input-6-dd7ef0db84a0>:31: DeprecationWarning: `method='simplex'` is deprecated and will be removed in SciPy 1.11.0. Please use one of the HiGHS solvers (e.g. `method='highs'`) in new code.\n",
            "  result2 = linprog(c, A_ub=A, b_ub=b, bounds=[(0, None)] * num_columns, method='simplex', options={\"disp\": True})\n"
          ]
        }
      ]
    }
  ]
}